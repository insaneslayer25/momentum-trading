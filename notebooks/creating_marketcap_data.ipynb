{
 "cells": [
  {
   "cell_type": "code",
   "execution_count": 1,
   "metadata": {},
   "outputs": [],
   "source": [
    "import pandas as pd\n",
    "import yfinance as yf\n",
    "from scripts.ticker_mainpulation import ticker_to_csv_converter"
   ]
  },
  {
   "cell_type": "code",
   "execution_count": 2,
   "metadata": {},
   "outputs": [],
   "source": [
    "large_cap = pd.read_csv('data/Index/broadmarket/ind_nifty100list.csv')\n",
    "mid_cap = pd.read_csv('data/Index/broadmarket/ind_niftymidcap150list.csv')\n",
    "small_cap = pd.read_csv('data/Index/broadmarket/ind_niftysmallcap250list.csv')\n",
    "micro_cap = pd.read_csv('data/Index/broadmarket/ind_niftymicrocap250_list.csv')"
   ]
  },
  {
   "cell_type": "code",
   "execution_count": 7,
   "metadata": {},
   "outputs": [],
   "source": [
    "ticker_large_cap = ticker_to_csv_converter(large_cap,'nifty_100.csv')"
   ]
  },
  {
   "cell_type": "code",
   "execution_count": 8,
   "metadata": {},
   "outputs": [],
   "source": [
    "ticker_mid_cap = ticker_to_csv_converter(mid_cap,'nifty_midcap_150.csv')"
   ]
  },
  {
   "cell_type": "code",
   "execution_count": 9,
   "metadata": {},
   "outputs": [],
   "source": [
    "ticker_small_cap = ticker_to_csv_converter(small_cap,'nifty_smallcap_250.csv')"
   ]
  },
  {
   "cell_type": "code",
   "execution_count": 10,
   "metadata": {},
   "outputs": [
    {
     "name": "stderr",
     "output_type": "stream",
     "text": [
      "$DUMMYINFBM.NS: possibly delisted; no timezone found\n"
     ]
    },
    {
     "name": "stdout",
     "output_type": "stream",
     "text": [
      "DUMMYINFBM does not valid symbol\n"
     ]
    }
   ],
   "source": [
    "ticker_micro_cap = ticker_to_csv_converter(micro_cap,'nifty_microcap_250.csv')"
   ]
  },
  {
   "cell_type": "code",
   "execution_count": 11,
   "metadata": {},
   "outputs": [],
   "source": [
    "ticker_large_cap['Market Cap'] = 'Large Cap'\n",
    "ticker_mid_cap['Market Cap'] = 'Mid Cap'\n",
    "ticker_small_cap['Market Cap'] = 'Small Cap'\n",
    "ticker_micro_cap['Market Cap'] = 'Micro Cap'"
   ]
  },
  {
   "cell_type": "code",
   "execution_count": 12,
   "metadata": {},
   "outputs": [
    {
     "data": {
      "text/html": [
       "<div>\n",
       "<style scoped>\n",
       "    .dataframe tbody tr th:only-of-type {\n",
       "        vertical-align: middle;\n",
       "    }\n",
       "\n",
       "    .dataframe tbody tr th {\n",
       "        vertical-align: top;\n",
       "    }\n",
       "\n",
       "    .dataframe thead th {\n",
       "        text-align: right;\n",
       "    }\n",
       "</style>\n",
       "<table border=\"1\" class=\"dataframe\">\n",
       "  <thead>\n",
       "    <tr style=\"text-align: right;\">\n",
       "      <th></th>\n",
       "      <th>Company Name</th>\n",
       "      <th>Ticker</th>\n",
       "      <th>NSE Symbol</th>\n",
       "      <th>Market Cap</th>\n",
       "    </tr>\n",
       "  </thead>\n",
       "  <tbody>\n",
       "    <tr>\n",
       "      <th>0</th>\n",
       "      <td>ABB India Ltd.</td>\n",
       "      <td>ABB.NS</td>\n",
       "      <td>NSE:ABB</td>\n",
       "      <td>Large Cap</td>\n",
       "    </tr>\n",
       "    <tr>\n",
       "      <th>1</th>\n",
       "      <td>Adani Energy Solutions Ltd.</td>\n",
       "      <td>ADANIENSOL.NS</td>\n",
       "      <td>NSE:ADANIENSOL</td>\n",
       "      <td>Large Cap</td>\n",
       "    </tr>\n",
       "    <tr>\n",
       "      <th>2</th>\n",
       "      <td>Adani Enterprises Ltd.</td>\n",
       "      <td>ADANIENT.NS</td>\n",
       "      <td>NSE:ADANIENT</td>\n",
       "      <td>Large Cap</td>\n",
       "    </tr>\n",
       "    <tr>\n",
       "      <th>3</th>\n",
       "      <td>Adani Green Energy Ltd.</td>\n",
       "      <td>ADANIGREEN.NS</td>\n",
       "      <td>NSE:ADANIGREEN</td>\n",
       "      <td>Large Cap</td>\n",
       "    </tr>\n",
       "    <tr>\n",
       "      <th>4</th>\n",
       "      <td>Adani Ports and Special Economic Zone Ltd.</td>\n",
       "      <td>ADANIPORTS.NS</td>\n",
       "      <td>NSE:ADANIPORTS</td>\n",
       "      <td>Large Cap</td>\n",
       "    </tr>\n",
       "    <tr>\n",
       "      <th>...</th>\n",
       "      <td>...</td>\n",
       "      <td>...</td>\n",
       "      <td>...</td>\n",
       "      <td>...</td>\n",
       "    </tr>\n",
       "    <tr>\n",
       "      <th>95</th>\n",
       "      <td>Varun Beverages Ltd.</td>\n",
       "      <td>VBL.NS</td>\n",
       "      <td>NSE:VBL</td>\n",
       "      <td>Large Cap</td>\n",
       "    </tr>\n",
       "    <tr>\n",
       "      <th>96</th>\n",
       "      <td>Vedanta Ltd.</td>\n",
       "      <td>VEDL.NS</td>\n",
       "      <td>NSE:VEDL</td>\n",
       "      <td>Large Cap</td>\n",
       "    </tr>\n",
       "    <tr>\n",
       "      <th>97</th>\n",
       "      <td>Wipro Ltd.</td>\n",
       "      <td>WIPRO.NS</td>\n",
       "      <td>NSE:WIPRO</td>\n",
       "      <td>Large Cap</td>\n",
       "    </tr>\n",
       "    <tr>\n",
       "      <th>98</th>\n",
       "      <td>Zomato Ltd.</td>\n",
       "      <td>ZOMATO.NS</td>\n",
       "      <td>NSE:ZOMATO</td>\n",
       "      <td>Large Cap</td>\n",
       "    </tr>\n",
       "    <tr>\n",
       "      <th>99</th>\n",
       "      <td>Zydus Lifesciences Ltd.</td>\n",
       "      <td>ZYDUSLIFE.NS</td>\n",
       "      <td>NSE:ZYDUSLIFE</td>\n",
       "      <td>Large Cap</td>\n",
       "    </tr>\n",
       "  </tbody>\n",
       "</table>\n",
       "<p>100 rows × 4 columns</p>\n",
       "</div>"
      ],
      "text/plain": [
       "                                  Company Name         Ticker      NSE Symbol  \\\n",
       "0                               ABB India Ltd.         ABB.NS         NSE:ABB   \n",
       "1                  Adani Energy Solutions Ltd.  ADANIENSOL.NS  NSE:ADANIENSOL   \n",
       "2                       Adani Enterprises Ltd.    ADANIENT.NS    NSE:ADANIENT   \n",
       "3                      Adani Green Energy Ltd.  ADANIGREEN.NS  NSE:ADANIGREEN   \n",
       "4   Adani Ports and Special Economic Zone Ltd.  ADANIPORTS.NS  NSE:ADANIPORTS   \n",
       "..                                         ...            ...             ...   \n",
       "95                        Varun Beverages Ltd.         VBL.NS         NSE:VBL   \n",
       "96                                Vedanta Ltd.        VEDL.NS        NSE:VEDL   \n",
       "97                                  Wipro Ltd.       WIPRO.NS       NSE:WIPRO   \n",
       "98                                 Zomato Ltd.      ZOMATO.NS      NSE:ZOMATO   \n",
       "99                     Zydus Lifesciences Ltd.   ZYDUSLIFE.NS   NSE:ZYDUSLIFE   \n",
       "\n",
       "   Market Cap  \n",
       "0   Large Cap  \n",
       "1   Large Cap  \n",
       "2   Large Cap  \n",
       "3   Large Cap  \n",
       "4   Large Cap  \n",
       "..        ...  \n",
       "95  Large Cap  \n",
       "96  Large Cap  \n",
       "97  Large Cap  \n",
       "98  Large Cap  \n",
       "99  Large Cap  \n",
       "\n",
       "[100 rows x 4 columns]"
      ]
     },
     "execution_count": 12,
     "metadata": {},
     "output_type": "execute_result"
    }
   ],
   "source": [
    "ticker_large_cap"
   ]
  },
  {
   "cell_type": "code",
   "execution_count": 13,
   "metadata": {},
   "outputs": [],
   "source": [
    "from scripts.combining_csv import combining_csv"
   ]
  },
  {
   "cell_type": "code",
   "execution_count": 14,
   "metadata": {},
   "outputs": [],
   "source": [
    "combining_csv(ticker_large_cap,ticker_mid_cap,ticker_small_cap,ticker_micro_cap,csv_file_name='total_index_ticker_marketcap.csv',columns=['Company Name','Ticker','NSE Symbol','Market Cap'])"
   ]
  },
  {
   "cell_type": "code",
   "execution_count": null,
   "metadata": {},
   "outputs": [],
   "source": []
  }
 ],
 "metadata": {
  "kernelspec": {
   "display_name": "momentum-iC90gl-O",
   "language": "python",
   "name": "python3"
  },
  "language_info": {
   "codemirror_mode": {
    "name": "ipython",
    "version": 3
   },
   "file_extension": ".py",
   "mimetype": "text/x-python",
   "name": "python",
   "nbconvert_exporter": "python",
   "pygments_lexer": "ipython3",
   "version": "3.12.2"
  }
 },
 "nbformat": 4,
 "nbformat_minor": 2
}

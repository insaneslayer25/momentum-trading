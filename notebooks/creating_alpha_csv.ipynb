{
 "cells": [
  {
   "cell_type": "code",
   "execution_count": 1,
   "metadata": {},
   "outputs": [],
   "source": [
    "import yfinance as yf\n",
    "import pandas as pd\n",
    "from scripts.ticker_mainpulation import ticker_to_csv_converter"
   ]
  },
  {
   "cell_type": "code",
   "execution_count": 2,
   "metadata": {},
   "outputs": [],
   "source": [
    "alpha50 = pd.read_csv('data/Index/strategy/ind_nifty_Alpha_Index.csv')\n",
    "nifty_100_alpha_30 = pd.read_csv('data/Index/strategy/ind_nifty100Alpha30list.csv')\n",
    "nifty_200_alpha_30 = pd.read_csv('data/Index/strategy/ind_nifty200alpha30_list.csv')"
   ]
  },
  {
   "cell_type": "code",
   "execution_count": 3,
   "metadata": {},
   "outputs": [],
   "source": [
    "ticker_to_csv_converter(alpha50,'alpha_50.csv')\n",
    "ticker_to_csv_converter(nifty_100_alpha_30,'nifty_100_alpha_30.csv')\n",
    "ticker_to_csv_converter(nifty_200_alpha_30,'nifty_200_alpha_30.csv')"
   ]
  },
  {
   "cell_type": "code",
   "execution_count": 4,
   "metadata": {},
   "outputs": [],
   "source": [
    "from scripts.combining_csv import combining_csv"
   ]
  },
  {
   "cell_type": "code",
   "execution_count": 5,
   "metadata": {},
   "outputs": [],
   "source": [
    "alpha50 = pd.read_csv('alpha_50.csv')\n",
    "nifty_100_alpha_30 = pd.read_csv('nifty_100_alpha_30.csv')\n",
    "nifty_200_alpha_30 = pd.read_csv('nifty_200_alpha_30.csv')\n",
    "\n",
    "combining_csv(alpha50,nifty_100_alpha_30,nifty_100_alpha_30,csv_file_name='combined_alpha.csv')"
   ]
  },
  {
   "cell_type": "code",
   "execution_count": null,
   "metadata": {},
   "outputs": [],
   "source": []
  }
 ],
 "metadata": {
  "kernelspec": {
   "display_name": "momentum-iC90gl-O",
   "language": "python",
   "name": "python3"
  },
  "language_info": {
   "codemirror_mode": {
    "name": "ipython",
    "version": 3
   },
   "file_extension": ".py",
   "mimetype": "text/x-python",
   "name": "python",
   "nbconvert_exporter": "python",
   "pygments_lexer": "ipython3",
   "version": "3.12.2"
  }
 },
 "nbformat": 4,
 "nbformat_minor": 2
}
